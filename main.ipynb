{
 "cells": [
  {
   "cell_type": "markdown",
   "metadata": {},
   "source": [
    "# Imports\n"
   ]
  },
  {
   "cell_type": "code",
   "execution_count": null,
   "metadata": {},
   "outputs": [],
   "source": [
    "import matplotlib.pyplot as plt\n",
    "\n",
    "from astropy.stats import sigma_clipped_stats\n",
    "from sklearn.model_selection import train_test_split, GridSearchCV\n",
    "from sklearn.neighbors import KNeighborsRegressor\n",
    "import joblib\n",
    "import numpy as np\n",
    "\n",
    "spits_cutout = joblib.load('./datasets/spits_cutout_x2828_y5085.joblib')\n",
    "spits_coords = joblib.load('./datasets/coords_spits_cutout_x2828_y5085.joblib')\n",
    "spits_cutout_reshaped = spits_cutout.reshape(1,-1)[0]\n",
    "\n",
    "import numpy as np\n",
    "\n",
    "import matplotlib.pyplot as plt\n",
    "\n",
    "from astropy.visualization import SqrtStretch\n",
    "\n",
    "from astropy.visualization.mpl_normalize import ImageNormalize\n",
    "from photutils.aperture import CircularAperture\n",
    "from photutils.detection import DAOStarFinder"
   ]
  },
  {
   "cell_type": "code",
   "execution_count": null,
   "metadata": {},
   "outputs": [],
   "source": [
    "def cartesionGrid(full_data, cutout_data):\n",
    "    from sklearn.utils import extmath\n",
    "\n",
    "    y1, x1 = np.where(full_data == cutout_data[0, 0])\n",
    "    y1 = y1[0]\n",
    "    x1 = x1[0]\n",
    "    first_corner = y1, x1\n",
    "\n",
    "    diag_corner = np.add(first_corner, cutout_data.shape)\n",
    "    coords_x = np.array(range(first_corner[1], diag_corner[1]))\n",
    "    coords_y = np.array(range(first_corner[0], diag_corner[0]))\n",
    "\n",
    "    return extmath.cartesian([coords_x, coords_y]) # gives every tuple combination of x and y values; i.e. all points\n",
    "\n",
    "# def get_spits_data():\n",
    "#     from astropy.io import fits\n",
    "#     from computer_path import FullMaps\n",
    "\n",
    "#     return fits.getdata(FullMaps.Spitzer())\n",
    "def get_spits_data():\n",
    "    return joblib.load('./datasets/spits_data.joblib')\n",
    "\n",
    "\n",
    "def cartesionGrid_spits(cutout_data):\n",
    "    return cartesionGrid(get_spits_data(), cutout_data)\n",
    "                    "
   ]
  },
  {
   "cell_type": "markdown",
   "metadata": {},
   "source": [
    "# Creating mask"
   ]
  },
  {
   "cell_type": "code",
   "execution_count": null,
   "metadata": {},
   "outputs": [],
   "source": [
    "mean, median, std = sigma_clipped_stats(spits_cutout, sigma=3.0)  \n",
    "print((mean, median, std))"
   ]
  },
  {
   "cell_type": "code",
   "execution_count": null,
   "metadata": {},
   "outputs": [],
   "source": [
    "def mask_with_dao(input_data):\n",
    "    mean, median, std = sigma_clipped_stats(input_data, sigma=3.0)  \n",
    "    d = DAOStarFinder(fwhm=10.0, threshold=5.*std)\n",
    "    s = d(input_data - median)\n",
    "    for col in s.colnames:\n",
    "        s[ col ].info.format = '%.8g'\n",
    "    \n",
    "    return s, d\n",
    "\n",
    "sources, daofind = mask_with_dao(spits_cutout)\n"
   ]
  },
  {
   "cell_type": "code",
   "execution_count": null,
   "metadata": {},
   "outputs": [],
   "source": [
    "print(f'Number of stars found = {len(sources)  } ')"
   ]
  },
  {
   "cell_type": "code",
   "execution_count": null,
   "metadata": {},
   "outputs": [],
   "source": [
    "positions = np.transpose((sources['xcentroid'], sources['ycentroid']))\n",
    "apertures = CircularAperture(positions, r=4.)\n",
    "norm = ImageNormalize(stretch=SqrtStretch())\n",
    "\n",
    "plt.imshow(spits_cutout, cmap='Greys', origin='lower', norm=norm, interpolation='nearest')\n",
    "apertures.plot(color='blue', lw=1.5, alpha=0.5)"
   ]
  },
  {
   "cell_type": "markdown",
   "metadata": {},
   "source": [
    "# Background Masking\n",
    "Let's get rid of the background noise"
   ]
  },
  {
   "cell_type": "code",
   "execution_count": null,
   "metadata": {},
   "outputs": [],
   "source": [
    "norm = ImageNormalize(stretch=SqrtStretch())\n",
    "plt.imshow(spits_cutout, norm=norm, origin='lower', cmap='Greys_r', interpolation='nearest')"
   ]
  },
  {
   "cell_type": "code",
   "execution_count": null,
   "metadata": {},
   "outputs": [],
   "source": [
    "from astropy.stats import SigmaClip\n",
    "from photutils.segmentation import detect_threshold, detect_sources\n",
    "from photutils.utils import circular_footprint"
   ]
  },
  {
   "cell_type": "markdown",
   "metadata": {},
   "source": [
    "## creating the source mask"
   ]
  },
  {
   "cell_type": "code",
   "execution_count": null,
   "metadata": {},
   "outputs": [],
   "source": [
    "SIGMA = 10.90\n",
    "\n",
    "\n",
    "def mask_sources(input_data, S):\n",
    "    sigma_clip = SigmaClip(sigma=S, maxiters=10)\n",
    "    threshold = detect_threshold(input_data, nsigma=6.250, sigma_clip=sigma_clip)\n",
    "    segment_img = detect_sources(input_data, threshold, npixels=5)\n",
    "    footprint = circular_footprint(radius=1)\n",
    "    mask = segment_img.make_source_mask(footprint=footprint)\n",
    "\n",
    "    return mask\n",
    "\n",
    "source_mask = mask_sources(spits_cutout, SIGMA)\n",
    "mean, median, std = sigma_clipped_stats(spits_cutout, sigma=5.0, mask=source_mask)\n",
    "print(f'{mean, median, std = }')"
   ]
  },
  {
   "cell_type": "markdown",
   "metadata": {},
   "source": [
    "## Creating a Background2D"
   ]
  },
  {
   "cell_type": "code",
   "execution_count": null,
   "metadata": {},
   "outputs": [],
   "source": [
    "from photutils.background import Background2D, MedianBackground\n",
    "sigma_clip = SigmaClip(sigma=3.)\n",
    "bkg_estimator = MedianBackground()\n",
    "bkg = Background2D(spits_cutout, (50,50), filter_size=(3,3), sigma_clip=sigma_clip, bkg_estimator=bkg_estimator)"
   ]
  },
  {
   "cell_type": "code",
   "execution_count": null,
   "metadata": {},
   "outputs": [],
   "source": [
    "print(f'{bkg.background_median = }\\n{bkg.background_rms_median = }')"
   ]
  },
  {
   "cell_type": "code",
   "execution_count": null,
   "metadata": {},
   "outputs": [],
   "source": [
    "spits_cutout_masked = spits_cutout - bkg.background\n",
    "spits_double_masked = spits_cutout_masked - source_mask\n"
   ]
  },
  {
   "cell_type": "code",
   "execution_count": null,
   "metadata": {},
   "outputs": [],
   "source": [
    "%matplotlib widget\n",
    "plt.subplot(131)\n",
    "plt.imshow(spits_cutout_masked, norm=norm, origin='lower', cmap='Greys_r', interpolation='nearest')\n",
    "plt.subplot(132)\n",
    "plt.imshow(spits_double_masked, norm=norm, origin='lower', cmap='Greys_r', interpolation='nearest')\n",
    "plt.subplot(133)\n",
    "plt.tight_layout()\n",
    "plt.imshow(spits_cutout)"
   ]
  },
  {
   "cell_type": "markdown",
   "metadata": {},
   "source": [
    "Look's like background was successfully masked"
   ]
  },
  {
   "cell_type": "code",
   "execution_count": null,
   "metadata": {},
   "outputs": [],
   "source": [
    "sources = daofind(spits_cutout_masked - median)\n",
    "for col in sources.colnames:\n",
    "    sources[ col ].info.format = '%.8g'\n",
    "sources"
   ]
  },
  {
   "cell_type": "markdown",
   "metadata": {},
   "source": [
    "# Actual individual cutouts"
   ]
  },
  {
   "cell_type": "code",
   "execution_count": null,
   "metadata": {},
   "outputs": [],
   "source": [
    "\n",
    "def sort_points_to_cutouts(sources_list, input_data):\n",
    "    from astropy.nddata import Cutout2D\n",
    "\n",
    "    x = sources_list['xcentroid']\n",
    "    y = sources_list['ycentroid']\n",
    "    points = list(zip(x, y))\n",
    "\n",
    "    cutouts = []\n",
    "    for p_index, point in enumerate( points ):\n",
    "        if p_index > 10:\n",
    "            c = Cutout2D(input_data, point, (50, 50)).data\n",
    "            cutouts.append(c) \n",
    "\n",
    "    return np.array(cutouts)\n",
    "    \n"
   ]
  },
  {
   "cell_type": "code",
   "execution_count": null,
   "metadata": {},
   "outputs": [],
   "source": [
    "\n",
    "masked_cutouts = sort_points_to_cutouts(sources, spits_cutout_masked)\n"
   ]
  },
  {
   "cell_type": "code",
   "execution_count": null,
   "metadata": {},
   "outputs": [],
   "source": [
    "%matplotlib inline\n",
    "target_cutout = masked_cutouts[0]\n",
    "plt.imshow(target_cutout, norm=norm, origin='lower', cmap='Greys_r', interpolation='nearest')"
   ]
  },
  {
   "cell_type": "markdown",
   "metadata": {},
   "source": [
    "## Setting up data"
   ]
  },
  {
   "cell_type": "code",
   "execution_count": null,
   "metadata": {},
   "outputs": [],
   "source": [
    "from astropy.nddata import Cutout2D\n",
    "import pandas as pd\n",
    "x = sources['xcentroid']\n",
    "y = sources['ycentroid']\n",
    "points = list(zip(x, y))\n",
    "\n",
    "cutouts = []\n",
    "cutouts_1d = []\n",
    "for p_index, point in enumerate( points ):\n",
    "    if p_index > 10:\n",
    "        c = Cutout2D(spits_cutout_masked, point, (50, 50)).data\n",
    "\n",
    "        cutouts.append(c)\n",
    "        cutouts_1d.append(c.flatten())\n",
    "\n",
    "\n",
    "cutouts = np.array(cutouts)\n",
    "cutouts_1d = np.array(cutouts_1d)\n"
   ]
  },
  {
   "cell_type": "markdown",
   "metadata": {},
   "source": [
    "## Masking cutouts"
   ]
  },
  {
   "cell_type": "markdown",
   "metadata": {},
   "source": [
    "Just want to mask the peaks of the stars, to simulate the supersaturated data of other Spitzer points"
   ]
  },
  {
   "cell_type": "code",
   "execution_count": null,
   "metadata": {},
   "outputs": [],
   "source": [
    "masked_cutouts = []\n",
    "masked_cutouts_1d = []\n",
    "for c in cutouts:\n",
    "    sigma_clip = SigmaClip(sigma=7., maxiters=100)\n",
    "    threshold = detect_threshold(c, nsigma=3.990, sigma_clip=sigma_clip)\n",
    "    segment_img = detect_sources(c, threshold, npixels=5)\n",
    "    footprint = circular_footprint(radius=1)\n",
    "    mask = segment_img.make_source_mask(footprint=footprint)\n",
    "    mean, median, std = sigma_clipped_stats(c, sigma=5.0, mask=mask)\n",
    "    # print(f'{mean, median, std = }')\n",
    "    m = c - mask - median \n",
    "    masked_cutouts.append(m)\n",
    "    masked_cutouts_1d.append(m.flatten())\n",
    "\n",
    "masked_cutouts = np.array(masked_cutouts)\n",
    "masked_cutouts_1d = np.array(masked_cutouts_1d)\n",
    "\n",
    "%matplotlib inline\n",
    "plt.subplot(121)\n",
    "plt.imshow(cutouts[0], norm=norm, origin='lower', cmap='Greys_r', interpolation='nearest')\n",
    "plt.subplot(122)\n",
    "plt.imshow(masked_cutouts[5], norm=norm, origin='lower', cmap='Greys_r', interpolation='nearest')"
   ]
  },
  {
   "cell_type": "code",
   "execution_count": null,
   "metadata": {},
   "outputs": [],
   "source": [
    "\n",
    "print(f'training data size {masked_cutouts.shape}')\n",
    "print('65 (50, 50) masked_cutouts ')\n",
    "print(f'training data size {masked_cutouts_1d.shape}')\n"
   ]
  },
  {
   "cell_type": "markdown",
   "metadata": {},
   "source": [
    "Just checking the cutouts"
   ]
  },
  {
   "cell_type": "code",
   "execution_count": null,
   "metadata": {},
   "outputs": [],
   "source": [
    "col_size = 11 # limit so we don't get spammed with hundreds of images\n",
    "for plot_index, c in enumerate( masked_cutouts ):\n",
    "    plot_index += 1\n",
    "    if plot_index < col_size:\n",
    "        plt.subplot(1, col_size, plot_index)\n",
    "        plt.imshow(c, norm=norm, origin='lower', cmap='Greys_r', interpolation='nearest')"
   ]
  },
  {
   "cell_type": "markdown",
   "metadata": {},
   "source": [
    "# KNN"
   ]
  },
  {
   "cell_type": "code",
   "execution_count": null,
   "metadata": {},
   "outputs": [],
   "source": [
    "input_train, input_test, output_train, output_test = train_test_split(masked_cutouts_1d, cutouts_1d, test_size=0.2)"
   ]
  },
  {
   "cell_type": "code",
   "execution_count": null,
   "metadata": {},
   "outputs": [],
   "source": [
    "input_test.shape, output_test.shape"
   ]
  },
  {
   "cell_type": "code",
   "execution_count": null,
   "metadata": {},
   "outputs": [],
   "source": [
    "kde = KNeighborsRegressor()\n",
    "kde.fit(input_train, output_train)\n",
    "\n",
    "kde_pred = kde.predict(input_test)"
   ]
  },
  {
   "cell_type": "code",
   "execution_count": null,
   "metadata": {},
   "outputs": [],
   "source": [
    "%matplotlib inline\n",
    "pred_img = kde_pred[10].reshape(50,50)\n",
    "plt.subplot(121)\n",
    "plt.title('Predicted')\n",
    "plt.imshow(pred_img)\n",
    "plt.subplot(122)\n",
    "plt.title('Training Data')\n",
    "plt.imshow(input_train[0].reshape(50,50))\n"
   ]
  }
 ],
 "metadata": {
  "kernelspec": {
   "display_name": "Python 3.9.12 ('base')",
   "language": "python",
   "name": "python3"
  },
  "language_info": {
   "codemirror_mode": {
    "name": "ipython",
    "version": 3
   },
   "file_extension": ".py",
   "mimetype": "text/x-python",
   "name": "python",
   "nbconvert_exporter": "python",
   "pygments_lexer": "ipython3",
   "version": "3.9.12"
  },
  "orig_nbformat": 4,
  "vscode": {
   "interpreter": {
    "hash": "6e405700609b81e4f988f75b2f254f02f701e31b6c52d3ebb20619063ff2da26"
   }
  }
 },
 "nbformat": 4,
 "nbformat_minor": 2
}
